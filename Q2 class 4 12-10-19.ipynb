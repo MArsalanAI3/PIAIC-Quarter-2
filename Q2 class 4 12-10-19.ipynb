{
 "cells": [
  {
   "cell_type": "code",
   "execution_count": 11,
   "metadata": {},
   "outputs": [],
   "source": [
    "import os"
   ]
  },
  {
   "cell_type": "code",
   "execution_count": null,
   "metadata": {},
   "outputs": [],
   "source": []
  },
  {
   "cell_type": "code",
   "execution_count": 12,
   "metadata": {},
   "outputs": [
    {
     "ename": "IndentationError",
     "evalue": "expected an indented block (<ipython-input-12-03c7e6201922>, line 8)",
     "output_type": "error",
     "traceback": [
      "\u001b[1;36m  File \u001b[1;32m\"<ipython-input-12-03c7e6201922>\"\u001b[1;36m, line \u001b[1;32m8\u001b[0m\n\u001b[1;33m    if file exist in the path:\u001b[0m\n\u001b[1;37m     ^\u001b[0m\n\u001b[1;31mIndentationError\u001b[0m\u001b[1;31m:\u001b[0m expected an indented block\n"
     ]
    }
   ],
   "source": [
    "\n",
    "\n",
    "\n",
    "\n",
    "#########\n",
    "def main():\n",
    "## just a tip to find a actual method/....\n",
    "if file exist in the path:\n",
    "    image_array=np.load(\"file\")\n",
    "else:\n",
    "path,dirs,files=next(os.walk(\"/usr/lib\"))\n",
    "file_count=len(files)\n",
    "image_array=np.zero([file_count,200,200,3])\n",
    "for _,_ files in next(os.walk(\"/usr/lib\")):\n",
    "    idx=0 # which number of image  i am processing/.......\n",
    "    for file in files:\n",
    "        image_array=(idx,imageToNp(file))\n",
    "        idx=idx+1\n",
    "np.save(\"imageToNp\",\"image_array\") #if you want to save your files/......        \n",
    "return image_array        "
   ]
  },
  {
   "cell_type": "code",
   "execution_count": 14,
   "metadata": {},
   "outputs": [],
   "source": [
    "import numpy as np\n",
    "# for image reading\n",
    "import matplotlib.pylab as plt\n",
    "#image matplotlib.image\n",
    "\n",
    "def plt(im,h=8,**kwargs):\n",
    "# Helper function to plot an image.\n",
    "    y=im.shape[0]\n",
    "    x=im.shape[1]\n",
    "    w=(y/x)*h\n",
    "    plt.figure(figsize=(w,h))\n",
    "    plt.imshow(im,interpolation='none',**kwargs)\n",
    "    plt.axis('off')\n",
    "    # input (\"press Enter to continue \")\n",
    "    \n",
    "    \n",
    "    #%matplotlib pltinline\n",
    "    im=plt.imread(\"pp.jpg\")\n",
    "    print(type(im))\n",
    "    plti(im)\n",
    "    im=im[400:3800,:2000,:]\n",
    "    plti(im)\n",
    "    print(im.shape)\n"
   ]
  },
  {
   "cell_type": "code",
   "execution_count": 15,
   "metadata": {},
   "outputs": [],
   "source": [
    "import pandas as pd"
   ]
  },
  {
   "cell_type": "code",
   "execution_count": 16,
   "metadata": {},
   "outputs": [
    {
     "name": "stdout",
     "output_type": "stream",
     "text": [
      "fri    120\n",
      "sat    140\n",
      "dtype: int64\n"
     ]
    }
   ],
   "source": [
    "sw=pd.Series([20,30,40,50,60,70,80],\n",
    "            index =['mon','tue','wed','thur','fri','sat','sun'])\n",
    "sw=sw*2\n",
    "print(sw[\"fri\":\"sat\"])"
   ]
  },
  {
   "cell_type": "code",
   "execution_count": 17,
   "metadata": {},
   "outputs": [
    {
     "name": "stdout",
     "output_type": "stream",
     "text": [
      "Sindh          3500.0\n",
      "Punjab         4500.0\n",
      "KPK            5500.0\n",
      "Balochistan    6500.0\n",
      "GBG               NaN\n",
      "dtype: float64\n",
      "Sindh          False\n",
      "Punjab         False\n",
      "KPK            False\n",
      "Balochistan    False\n",
      "GBG             True\n",
      "dtype: bool\n"
     ]
    }
   ],
   "source": [
    "sdata={\"Sindh\":3500,\"Punjab\":4500,\"KPK\":5500,\"Balochistan\":6500}\n",
    "tax_by_state=pd.Series(sdata,\n",
    "                      index=[\"Sindh\",\"Punjab\",\"KPK\",\"Balochistan\",\"GBG\"])\n",
    "print(tax_by_state)\n",
    "print(pd.isnull(tax_by_state))"
   ]
  },
  {
   "cell_type": "code",
   "execution_count": 18,
   "metadata": {},
   "outputs": [],
   "source": [
    "tax_by_state[\"GBG\"]=654235"
   ]
  },
  {
   "cell_type": "code",
   "execution_count": 19,
   "metadata": {},
   "outputs": [
    {
     "name": "stdout",
     "output_type": "stream",
     "text": [
      "Sindh            3500.0\n",
      "Punjab           4500.0\n",
      "KPK              5500.0\n",
      "Balochistan      6500.0\n",
      "GBG            654235.0\n",
      "dtype: float64\n",
      "Sindh          False\n",
      "Punjab         False\n",
      "KPK            False\n",
      "Balochistan    False\n",
      "GBG            False\n",
      "dtype: bool\n"
     ]
    }
   ],
   "source": [
    "print(tax_by_state)\n",
    "print(pd.isnull(tax_by_state))"
   ]
  },
  {
   "cell_type": "code",
   "execution_count": 26,
   "metadata": {},
   "outputs": [
    {
     "name": "stdout",
     "output_type": "stream",
     "text": [
      "   apples  oranges  Banana\n",
      "0       3        2       2\n",
      "1       4       14       5\n",
      "2       1        3       6\n",
      "3       4        7       7\n"
     ]
    }
   ],
   "source": [
    "apples=pd.Series([3,4,1,4])\n",
    "oranges=pd.Series([2,14,3,7])\n",
    "list=[2,5,6,7]\n",
    "data={\"apples\":apples,\"oranges\":oranges,\"Banana\":list}\n",
    "# print(data,\"\\n\")\n",
    "fruits_df=pd.DataFrame(data)\n",
    "print(fruits_df)"
   ]
  },
  {
   "cell_type": "code",
   "execution_count": 25,
   "metadata": {},
   "outputs": [
    {
     "ename": "ValueError",
     "evalue": "Length of passed values is 4, index implies 3",
     "output_type": "error",
     "traceback": [
      "\u001b[1;31m---------------------------------------------------------------------------\u001b[0m",
      "\u001b[1;31mValueError\u001b[0m                                Traceback (most recent call last)",
      "\u001b[1;32m<ipython-input-25-7e4356bc14c5>\u001b[0m in \u001b[0;36m<module>\u001b[1;34m\u001b[0m\n\u001b[1;32m----> 1\u001b[1;33m \u001b[0mapples\u001b[0m\u001b[1;33m=\u001b[0m\u001b[0mpd\u001b[0m\u001b[1;33m.\u001b[0m\u001b[0mSeries\u001b[0m\u001b[1;33m(\u001b[0m\u001b[1;33m[\u001b[0m\u001b[1;36m3\u001b[0m\u001b[1;33m,\u001b[0m\u001b[1;36m4\u001b[0m\u001b[1;33m,\u001b[0m\u001b[1;36m1\u001b[0m\u001b[1;33m,\u001b[0m\u001b[1;36m4\u001b[0m\u001b[1;33m]\u001b[0m\u001b[1;33m,\u001b[0m\u001b[0mindex\u001b[0m\u001b[1;33m=\u001b[0m\u001b[1;33m[\u001b[0m\u001b[1;34m\"thurs\"\u001b[0m\u001b[1;33m,\u001b[0m\u001b[1;34m\"fri\"\u001b[0m\u001b[1;33m,\u001b[0m\u001b[1;34m\"Sat\"\u001b[0m\u001b[1;33m]\u001b[0m \u001b[1;33m)\u001b[0m\u001b[1;33m\u001b[0m\u001b[1;33m\u001b[0m\u001b[0m\n\u001b[0m\u001b[0;32m      2\u001b[0m \u001b[0moranges\u001b[0m\u001b[1;33m=\u001b[0m\u001b[0mpd\u001b[0m\u001b[1;33m.\u001b[0m\u001b[0mSeries\u001b[0m\u001b[1;33m(\u001b[0m\u001b[1;33m[\u001b[0m\u001b[1;36m2\u001b[0m\u001b[1;33m,\u001b[0m\u001b[1;36m14\u001b[0m\u001b[1;33m,\u001b[0m\u001b[1;36m3\u001b[0m\u001b[1;33m,\u001b[0m\u001b[1;36m7\u001b[0m\u001b[1;33m]\u001b[0m\u001b[1;33m,\u001b[0m\u001b[0mindex\u001b[0m\u001b[1;33m=\u001b[0m\u001b[1;33m[\u001b[0m\u001b[1;34m\"mon\"\u001b[0m\u001b[1;33m,\u001b[0m\u001b[1;34m\"tue\"\u001b[0m\u001b[1;33m,\u001b[0m\u001b[1;34m\"wed\"\u001b[0m\u001b[1;33m]\u001b[0m\u001b[1;33m)\u001b[0m\u001b[1;33m\u001b[0m\u001b[1;33m\u001b[0m\u001b[0m\n\u001b[0;32m      3\u001b[0m \u001b[1;31m# list=[2,5,6,7]\u001b[0m\u001b[1;33m\u001b[0m\u001b[1;33m\u001b[0m\u001b[1;33m\u001b[0m\u001b[0m\n\u001b[0;32m      4\u001b[0m \u001b[0moranges\u001b[0m\u001b[1;33m.\u001b[0m\u001b[0mindex\u001b[0m\u001b[1;33m=\u001b[0m\u001b[0mapples\u001b[0m\u001b[1;33m.\u001b[0m\u001b[0mindex\u001b[0m\u001b[1;33m\u001b[0m\u001b[1;33m\u001b[0m\u001b[0m\n\u001b[0;32m      5\u001b[0m \u001b[0mdata\u001b[0m\u001b[1;33m=\u001b[0m\u001b[1;33m{\u001b[0m\u001b[1;34m\"apples\"\u001b[0m\u001b[1;33m:\u001b[0m\u001b[0mapples\u001b[0m\u001b[1;33m,\u001b[0m\u001b[1;34m\"oranges\"\u001b[0m\u001b[1;33m:\u001b[0m\u001b[0moranges\u001b[0m\u001b[1;33m}\u001b[0m\u001b[1;33m\u001b[0m\u001b[1;33m\u001b[0m\u001b[0m\n",
      "\u001b[1;32mC:\\ProgramData\\Anaconda3\\lib\\site-packages\\pandas\\core\\series.py\u001b[0m in \u001b[0;36m__init__\u001b[1;34m(self, data, index, dtype, name, copy, fastpath)\u001b[0m\n\u001b[0;32m    247\u001b[0m                             \u001b[1;34m'Length of passed values is {val}, '\u001b[0m\u001b[1;33m\u001b[0m\u001b[1;33m\u001b[0m\u001b[0m\n\u001b[0;32m    248\u001b[0m                             \u001b[1;34m'index implies {ind}'\u001b[0m\u001b[1;33m\u001b[0m\u001b[1;33m\u001b[0m\u001b[0m\n\u001b[1;32m--> 249\u001b[1;33m                             .format(val=len(data), ind=len(index)))\n\u001b[0m\u001b[0;32m    250\u001b[0m                 \u001b[1;32mexcept\u001b[0m \u001b[0mTypeError\u001b[0m\u001b[1;33m:\u001b[0m\u001b[1;33m\u001b[0m\u001b[1;33m\u001b[0m\u001b[0m\n\u001b[0;32m    251\u001b[0m                     \u001b[1;32mpass\u001b[0m\u001b[1;33m\u001b[0m\u001b[1;33m\u001b[0m\u001b[0m\n",
      "\u001b[1;31mValueError\u001b[0m: Length of passed values is 4, index implies 3"
     ]
    }
   ],
   "source": [
    "apples=pd.Series([3,4,1,4],index=[\"thurs\",\"fri\",\"Sat\"] )\n",
    "oranges=pd.Series([2,14,3,7],index=[\"mon\",\"tue\",\"wed\"])\n",
    "# list=[2,5,6,7]\n",
    "oranges.index=apples.index\n",
    "data={\"apples\":apples,\"oranges\":oranges}\n",
    "# print(data,\"\\n\")\n",
    "fruits_df=pd.DataFrame(data)\n",
    "print(fruits_df)\n",
    "print(data.index)"
   ]
  },
  {
   "cell_type": "code",
   "execution_count": 24,
   "metadata": {},
   "outputs": [
    {
     "name": "stdout",
     "output_type": "stream",
     "text": [
      "[0 1 2 3 4 5 6]\n"
     ]
    },
    {
     "data": {
      "text/html": [
       "<div>\n",
       "<style scoped>\n",
       "    .dataframe tbody tr th:only-of-type {\n",
       "        vertical-align: middle;\n",
       "    }\n",
       "\n",
       "    .dataframe tbody tr th {\n",
       "        vertical-align: top;\n",
       "    }\n",
       "\n",
       "    .dataframe thead th {\n",
       "        text-align: right;\n",
       "    }\n",
       "</style>\n",
       "<table border=\"1\" class=\"dataframe\">\n",
       "  <thead>\n",
       "    <tr style=\"text-align: right;\">\n",
       "      <th></th>\n",
       "      <th>year</th>\n",
       "      <th>state</th>\n",
       "      <th>pop</th>\n",
       "      <th>debt</th>\n",
       "    </tr>\n",
       "  </thead>\n",
       "  <tbody>\n",
       "    <tr>\n",
       "      <th>one</th>\n",
       "      <td>200</td>\n",
       "      <td>ohio</td>\n",
       "      <td>1.5</td>\n",
       "      <td>0</td>\n",
       "    </tr>\n",
       "    <tr>\n",
       "      <th>two</th>\n",
       "      <td>300</td>\n",
       "      <td>ohio</td>\n",
       "      <td>1.3</td>\n",
       "      <td>1</td>\n",
       "    </tr>\n",
       "    <tr>\n",
       "      <th>three</th>\n",
       "      <td>400</td>\n",
       "      <td>ohio</td>\n",
       "      <td>1.4</td>\n",
       "      <td>2</td>\n",
       "    </tr>\n",
       "    <tr>\n",
       "      <th>four</th>\n",
       "      <td>500</td>\n",
       "      <td>Nevada</td>\n",
       "      <td>1.6</td>\n",
       "      <td>3</td>\n",
       "    </tr>\n",
       "    <tr>\n",
       "      <th>five</th>\n",
       "      <td>600</td>\n",
       "      <td>Nevada</td>\n",
       "      <td>1.7</td>\n",
       "      <td>4</td>\n",
       "    </tr>\n",
       "    <tr>\n",
       "      <th>six</th>\n",
       "      <td>700</td>\n",
       "      <td>Nevada</td>\n",
       "      <td>1.8</td>\n",
       "      <td>5</td>\n",
       "    </tr>\n",
       "    <tr>\n",
       "      <th>seven</th>\n",
       "      <td>900</td>\n",
       "      <td>Nevada</td>\n",
       "      <td>2.0</td>\n",
       "      <td>6</td>\n",
       "    </tr>\n",
       "  </tbody>\n",
       "</table>\n",
       "</div>"
      ],
      "text/plain": [
       "       year   state  pop  debt\n",
       "one     200    ohio  1.5     0\n",
       "two     300    ohio  1.3     1\n",
       "three   400    ohio  1.4     2\n",
       "four    500  Nevada  1.6     3\n",
       "five    600  Nevada  1.7     4\n",
       "six     700  Nevada  1.8     5\n",
       "seven   900  Nevada  2.0     6"
      ]
     },
     "execution_count": 24,
     "metadata": {},
     "output_type": "execute_result"
    }
   ],
   "source": [
    "state=['ohio','ohio','ohio','Nevada','Nevada','Nevada','Nevada']\n",
    "data={'state':state,\n",
    "     'year':[200,300,400,500,600,700,900],\n",
    "     'pop':[1.5,1.3,1.4,1.6,1.7,1.8,2.0],\n",
    "     'debt':[2,23,1,23,2,3,4]}\n",
    "\n",
    "frame2=pd.DataFrame(data,columns=['year','state','pop','debt'],\n",
    "                   index=['one','two','three','four','five','six','seven'])\n",
    "frame2\n",
    "#tail last 5 value output\n",
    "#head means first 5  value output\n",
    "# frame2=pd.Dataframe(data,columns=['year','state','pop','debt'],\n",
    "#                    index=['one','two','three','four','five','six','seven'])\n",
    "ln=len(frame2)\n",
    "rng=np.arange(ln)\n",
    "print(rng)\n",
    "frame2['debt']=rng\n",
    "frame2"
   ]
  },
  {
   "cell_type": "code",
   "execution_count": null,
   "metadata": {},
   "outputs": [],
   "source": []
  },
  {
   "cell_type": "code",
   "execution_count": null,
   "metadata": {},
   "outputs": [],
   "source": []
  }
 ],
 "metadata": {
  "kernelspec": {
   "display_name": "Python 3",
   "language": "python",
   "name": "python3"
  },
  "language_info": {
   "codemirror_mode": {
    "name": "ipython",
    "version": 3
   },
   "file_extension": ".py",
   "mimetype": "text/x-python",
   "name": "python",
   "nbconvert_exporter": "python",
   "pygments_lexer": "ipython3",
   "version": "3.7.3"
  }
 },
 "nbformat": 4,
 "nbformat_minor": 2
}
