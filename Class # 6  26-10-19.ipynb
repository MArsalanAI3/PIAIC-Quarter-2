{
 "cells": [
  {
   "cell_type": "markdown",
   "metadata": {},
   "source": [
    "# Function Application and Mapping "
   ]
  },
  {
   "cell_type": "code",
   "execution_count": 3,
   "metadata": {},
   "outputs": [],
   "source": [
    "import pandas as pd\n",
    "import numpy as np"
   ]
  },
  {
   "cell_type": "code",
   "execution_count": 16,
   "metadata": {},
   "outputs": [
    {
     "name": "stdout",
     "output_type": "stream",
     "text": [
      "               b         d         e\n",
      "utha   -0.618499  0.069612 -1.116826\n",
      "Ohio   -0.243955  0.445897 -0.210632\n",
      "Texas  -0.373099  2.238822  0.512027\n",
      "Nevada  0.349362 -1.140698 -0.512410\n",
      "               b         d         e\n",
      "utha    0.618499  0.069612  1.116826\n",
      "Ohio    0.243955  0.445897  0.210632\n",
      "Texas   0.373099  2.238822  0.512027\n",
      "Nevada  0.349362  1.140698  0.512410\n"
     ]
    }
   ],
   "source": [
    "frame=frame=pd.DataFrame(np.random.randn (4,3),\n",
    "                        columns=list('bde'),\n",
    "                        index=['utha','Ohio','Texas','Nevada'])\n",
    "print(frame)\n",
    "print(np.abs(frame))\n",
    "# print(frame[\"d\"].min())\n",
    "# print(frame[\"d\"].max())\n",
    "# print(frame[\"d\"].min() - frame[\"d\"].min())\n",
    "\n",
    "\n",
    "\n",
    "\n",
    "f=lambda x: x.max()-x.min()\n",
    "df=frame.apply(f)\n",
    "# print(df,type(df))\n",
    "df=frame.apply(f,axis=1)\n",
    "# print(df)\n",
    "\n",
    "\n",
    "def min_max(x):\n",
    "    minimum=x.min()\n",
    "    maximum=x.max()\n",
    "    series1= pd.Series([x.min(),x.max()],index=['min','max']) # return pd.Series([x.min()-x.max()],index=['min'])\n",
    "    \n",
    "#     print(series1)\n",
    "#     return series1\n",
    "df=frame.apply(min_max) #apply given function to all columns one by one ..........\n",
    "# print(df,type(df))   "
   ]
  },
  {
   "cell_type": "code",
   "execution_count": 17,
   "metadata": {},
   "outputs": [],
   "source": [
    "# link for data ==>> github.com/wesm/pydata-book"
   ]
  },
  {
   "cell_type": "code",
   "execution_count": null,
   "metadata": {},
   "outputs": [],
   "source": [
    "\n",
    "sample_df=pd.read_csv(\"\")\n",
    "print()\n",
    "\n",
    "sample_df=pd.read_csv(\"\",skiprows=1,\n",
    "                     names=['id','name','ch','ph','en','math'])\n",
    "print(sample_df)\n"
   ]
  },
  {
   "cell_type": "code",
   "execution_count": null,
   "metadata": {},
   "outputs": [],
   "source": []
  },
  {
   "cell_type": "code",
   "execution_count": null,
   "metadata": {},
   "outputs": [],
   "source": []
  },
  {
   "cell_type": "code",
   "execution_count": null,
   "metadata": {},
   "outputs": [],
   "source": []
  },
  {
   "cell_type": "code",
   "execution_count": null,
   "metadata": {},
   "outputs": [],
   "source": []
  },
  {
   "cell_type": "code",
   "execution_count": null,
   "metadata": {},
   "outputs": [],
   "source": []
  },
  {
   "cell_type": "code",
   "execution_count": null,
   "metadata": {},
   "outputs": [],
   "source": []
  },
  {
   "cell_type": "code",
   "execution_count": null,
   "metadata": {},
   "outputs": [],
   "source": []
  },
  {
   "cell_type": "code",
   "execution_count": null,
   "metadata": {},
   "outputs": [],
   "source": []
  },
  {
   "cell_type": "code",
   "execution_count": null,
   "metadata": {},
   "outputs": [],
   "source": []
  }
 ],
 "metadata": {
  "kernelspec": {
   "display_name": "Python 3",
   "language": "python",
   "name": "python3"
  },
  "language_info": {
   "codemirror_mode": {
    "name": "ipython",
    "version": 3
   },
   "file_extension": ".py",
   "mimetype": "text/x-python",
   "name": "python",
   "nbconvert_exporter": "python",
   "pygments_lexer": "ipython3",
   "version": "3.7.3"
  }
 },
 "nbformat": 4,
 "nbformat_minor": 2
}
