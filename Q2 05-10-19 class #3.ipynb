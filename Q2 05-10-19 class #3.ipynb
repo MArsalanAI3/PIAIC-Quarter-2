{
 "cells": [
  {
   "cell_type": "code",
   "execution_count": 2,
   "metadata": {},
   "outputs": [],
   "source": [
    "import numpy as np"
   ]
  },
  {
   "cell_type": "code",
   "execution_count": 9,
   "metadata": {},
   "outputs": [
    {
     "name": "stdout",
     "output_type": "stream",
     "text": [
      "[10  3  4  2  3]\n",
      "1 (5,)\n"
     ]
    }
   ],
   "source": [
    "ndarray=np.array([10,3,4,2,3])\n",
    "print(ndarray)\n",
    "print(ndarray.ndim , ndarray.shape)  ###\"ndim\" use for the check array shape total size of an array"
   ]
  },
  {
   "cell_type": "code",
   "execution_count": 29,
   "metadata": {},
   "outputs": [
    {
     "name": "stdout",
     "output_type": "stream",
     "text": [
      "[[list([112, 113, 114, 115]) 22 44]\n",
      " [33 23 43]\n",
      " [54 53 52]\n",
      " [20 10 30]]\n",
      "ndim 2 shape (4, 3)\n",
      "52\n"
     ]
    }
   ],
   "source": [
    "ndarray=np.array(\n",
    "                [\n",
    "                [  [112,113,114,115],[22],44],\n",
    "                [33,23,43],\n",
    "                [54,53,52],\n",
    "                [20,10,30]]\n",
    "                )\n",
    "print(ndarray)\n",
    "print(\"ndim\", ndarray.ndim ,\"shape\" ,ndarray.shape)  ###\"ndim\" use for the check array shape total size of an array\n",
    "print(ndarray[2,2])"
   ]
  },
  {
   "cell_type": "code",
   "execution_count": 34,
   "metadata": {},
   "outputs": [
    {
     "name": "stdout",
     "output_type": "stream",
     "text": [
      "[[111 112 113]\n",
      " [221 222 223]\n",
      " [331 332 333]\n",
      " [411 412 413]\n",
      " [511 512 513]\n",
      " [611 612 613]\n",
      " [123 231 230]\n",
      " [321 320 109]\n",
      " [108 107 104]\n",
      " [710 871 541]\n",
      " [691 321 169]\n",
      " [102 107 103]]\n",
      "ndim 2 shape (12, 3)\n",
      "[331]\n",
      "332\n",
      "[[111 112 113]\n",
      " [221 222 223]\n",
      " [331 332 333]\n",
      " [411 412 413]]\n",
      "[[111]\n",
      " [221]]\n"
     ]
    }
   ],
   "source": [
    "ndarray=np.array(\n",
    "        [[111,112,113],[221,222,223],[331,332,333],\n",
    "         [411,412,413],[511,512,513],[611,612,613],\n",
    "         [123,231,230],[321,320,109],[108,107,104],\n",
    "         [710,871,541],[691,321,169],[102,107,103]\n",
    "    ]\n",
    ")\n",
    "print(ndarray)\n",
    "subarray=ndarray[2]\n",
    "print(\"ndim\", ndarray.ndim, \"shape\" , ndarray.shape)\n",
    "#use of colon is optional means select all\n",
    "print(ndarray[2, :1])\n",
    "print(ndarray[2, 1])\n",
    "print(ndarray[0:4, 0:3])\n",
    "print(ndarray[0:2,0:1])\n",
    "\n",
    "\n",
    "# remember 4th index is not valid but in python indexes stop at -1 of the index......\n",
    "# students bhaio ,4 bhi use kr sakte hayn , kiyon kay 4 k matlab hay 4 -1,...........\n",
    "# python may range given number say aik com pay ruk jati hai.........................\n"
   ]
  },
  {
   "cell_type": "code",
   "execution_count": 5,
   "metadata": {},
   "outputs": [],
   "source": [
    "\n",
    "import matplotlib.pylab as plt    # it is a library use for read images"
   ]
  },
  {
   "cell_type": "code",
   "execution_count": 6,
   "metadata": {},
   "outputs": [],
   "source": [
    "import pandas as pd"
   ]
  },
  {
   "cell_type": "code",
   "execution_count": 4,
   "metadata": {},
   "outputs": [
    {
     "name": "stdout",
     "output_type": "stream",
     "text": [
      "0     2\n",
      "1     3\n",
      "2     4\n",
      "3     5\n",
      "4     6\n",
      "5    12\n",
      "6     1\n",
      "dtype: int64\n"
     ]
    }
   ],
   "source": [
    "obj=pd.Series([2,3,4,5,6,12,1])\n",
    "print(obj)"
   ]
  },
  {
   "cell_type": "code",
   "execution_count": 7,
   "metadata": {},
   "outputs": [
    {
     "name": "stdout",
     "output_type": "stream",
     "text": [
      "[100 200 300 400]\n",
      "RangeIndex(start=0, stop=4, step=1)\n"
     ]
    }
   ],
   "source": [
    "sales=pd.Series([100,200,300,400])\n",
    "print(sales.values)\n",
    "print(sales.index)\n",
    "# print(obj)"
   ]
  },
  {
   "cell_type": "code",
   "execution_count": 20,
   "metadata": {},
   "outputs": [
    {
     "name": "stdout",
     "output_type": "stream",
     "text": [
      "jan      100\n",
      "feb      200\n",
      "march    300\n",
      "dtype: int64\n"
     ]
    }
   ],
   "source": [
    "sales=pd.Series([100,200,300], index=['jan','feb','march'])\n",
    "# print(sales.values)\n",
    "print(sales)                "
   ]
  },
  {
   "cell_type": "code",
   "execution_count": 8,
   "metadata": {},
   "outputs": [
    {
     "name": "stdout",
     "output_type": "stream",
     "text": [
      "mon    23\n",
      "tue    45\n",
      "wed    12\n",
      "thr    54\n",
      "fri    23\n",
      "sat    41\n",
      "sun     0\n",
      "dtype: int64\n",
      "mon     True\n",
      "tue     True\n",
      "wed    False\n",
      "thr     True\n",
      "fri     True\n",
      "sat     True\n",
      "sun    False\n",
      "dtype: bool\n",
      "mon     46\n",
      "tue     90\n",
      "wed     24\n",
      "thr    108\n",
      "fri     46\n",
      "sat     82\n",
      "sun      0\n",
      "dtype: int64\n"
     ]
    }
   ],
   "source": [
    "Samosa=pd.Series([23,45,12,54,23,41,0], index=['mon','tue','wed','thr','fri','sat','sun'])\n",
    "print(Samosa)\n",
    "print(Samosa>20)\n",
    "print(Samosa*2)"
   ]
  },
  {
   "cell_type": "code",
   "execution_count": null,
   "metadata": {},
   "outputs": [],
   "source": []
  },
  {
   "cell_type": "code",
   "execution_count": null,
   "metadata": {},
   "outputs": [],
   "source": []
  }
 ],
 "metadata": {
  "kernelspec": {
   "display_name": "Python 3",
   "language": "python",
   "name": "python3"
  },
  "language_info": {
   "codemirror_mode": {
    "name": "ipython",
    "version": 3
   },
   "file_extension": ".py",
   "mimetype": "text/x-python",
   "name": "python",
   "nbconvert_exporter": "python",
   "pygments_lexer": "ipython3",
   "version": "3.7.3"
  }
 },
 "nbformat": 4,
 "nbformat_minor": 2
}
